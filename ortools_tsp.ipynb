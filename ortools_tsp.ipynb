{
 "cells": [
  {
   "cell_type": "code",
   "execution_count": 1,
   "id": "f90feb30-072b-4d36-a05d-551d40a35cd3",
   "metadata": {
    "tags": []
   },
   "outputs": [
    {
     "name": "stdout",
     "output_type": "stream",
     "text": [
      "Collecting haversine\n",
      "  Downloading haversine-2.8.0-py2.py3-none-any.whl (7.7 kB)\n",
      "Installing collected packages: haversine\n",
      "Successfully installed haversine-2.8.0\n"
     ]
    },
    {
     "name": "stderr",
     "output_type": "stream",
     "text": [
      "\n",
      "[notice] A new release of pip is available: 23.1.2 -> 23.3.1\n",
      "[notice] To update, run: python.exe -m pip install --upgrade pip\n"
     ]
    }
   ],
   "source": [
    "!pip install haversine"
   ]
  },
  {
   "cell_type": "code",
   "execution_count": 3,
   "id": "3b7930e6",
   "metadata": {
    "id": "3b7930e6",
    "outputId": "21d60f34-5fcf-45dc-e1c6-524bf6796730",
    "tags": []
   },
   "outputs": [
    {
     "name": "stdout",
     "output_type": "stream",
     "text": [
      "Objective: 4396 miles\n",
      "Route for vehicle 0:\n",
      " 0 -> 6 -> 2 -> 9 -> 3 -> 4 -> 1 -> 8 -> 7 -> 5 -> 0\n",
      "\n",
      "Objective: 5798 miles\n",
      "Route for vehicle 0:\n",
      " 0 -> 18 -> 16 -> 17 -> 5 -> 12 -> 11 -> 7 -> 8 -> 13 -> 1 -> 4 -> 14 -> 19 -> 3 -> 9 -> 2 -> 15 -> 6 -> 10 -> 0\n",
      "\n",
      "Objective: 7409 miles\n",
      "Route for vehicle 0:\n",
      " 0 -> 18 -> 16 -> 17 -> 21 -> 10 -> 23 -> 6 -> 15 -> 2 -> 9 -> 3 -> 27 -> 19 -> 14 -> 4 -> 1 -> 13 -> 28 -> 8 -> 7 -> 29 -> 11 -> 12 -> 25 -> 26 -> 24 -> 5 -> 22 -> 20 -> 0\n",
      "\n",
      "Objective: 8391 miles\n",
      "Route for vehicle 0:\n",
      " 0 -> 20 -> 32 -> 22 -> 35 -> 18 -> 16 -> 17 -> 30 -> 5 -> 24 -> 26 -> 33 -> 39 -> 25 -> 12 -> 31 -> 11 -> 29 -> 7 -> 8 -> 28 -> 13 -> 1 -> 4 -> 14 -> 34 -> 19 -> 27 -> 3 -> 9 -> 38 -> 2 -> 15 -> 6 -> 23 -> 10 -> 21 -> 37 -> 36 -> 0\n",
      "\n",
      "Objective: 9607 miles\n",
      "Route for vehicle 0:\n",
      " 0 -> 10 -> 23 -> 6 -> 15 -> 2 -> 38 -> 9 -> 3 -> 44 -> 30 -> 27 -> 19 -> 34 -> 49 -> 14 -> 4 -> 1 -> 13 -> 45 -> 28 -> 8 -> 7 -> 42 -> 48 -> 5 -> 43 -> 29 -> 11 -> 31 -> 12 -> 25 -> 39 -> 33 -> 41 -> 46 -> 26 -> 24 -> 47 -> 40 -> 21 -> 37 -> 36 -> 17 -> 16 -> 18 -> 35 -> 22 -> 32 -> 20 -> 0\n",
      "\n",
      "Objective: 20248 miles\n",
      "Route for vehicle 0:\n",
      " 0 -> 18 -> 16 -> 17 -> 36 -> 10 -> 21 -> 37 -> 40 -> 59 -> 63 -> 58 -> 62 -> 66 -> 60 -> 67 -> 30 -> 54 -> 1 -> 4 -> 14 -> 49 -> 34 -> 19 -> 44 -> 38 -> 15 -> 6 -> 23 -> 2 -> 9 -> 3 -> 27 -> 65 -> 55 -> 13 -> 45 -> 28 -> 57 -> 8 -> 69 -> 50 -> 7 -> 42 -> 61 -> 48 -> 5 -> 43 -> 51 -> 29 -> 11 -> 31 -> 68 -> 56 -> 53 -> 12 -> 25 -> 39 -> 33 -> 41 -> 46 -> 26 -> 24 -> 47 -> 52 -> 22 -> 32 -> 20 -> 64 -> 35 -> 0\n",
      "\n",
      "Objective: 22502 miles\n",
      "Route for vehicle 0:\n",
      " 0 -> 35 -> 64 -> 20 -> 32 -> 95 -> 22 -> 96 -> 92 -> 58 -> 63 -> 62 -> 66 -> 52 -> 68 -> 31 -> 11 -> 56 -> 12 -> 53 -> 78 -> 25 -> 81 -> 74 -> 39 -> 89 -> 90 -> 33 -> 41 -> 46 -> 26 -> 24 -> 47 -> 97 -> 60 -> 70 -> 75 -> 30 -> 67 -> 86 -> 48 -> 5 -> 61 -> 43 -> 91 -> 87 -> 73 -> 85 -> 29 -> 51 -> 7 -> 93 -> 94 -> 42 -> 79 -> 71 -> 54 -> 1 -> 13 -> 84 -> 8 -> 83 -> 69 -> 50 -> 57 -> 28 -> 45 -> 72 -> 55 -> 82 -> 14 -> 4 -> 49 -> 34 -> 19 -> 65 -> 88 -> 27 -> 76 -> 44 -> 3 -> 9 -> 38 -> 2 -> 15 -> 6 -> 23 -> 40 -> 77 -> 99 -> 80 -> 59 -> 37 -> 21 -> 10 -> 98 -> 36 -> 17 -> 16 -> 18 -> 0\n",
      "\n"
     ]
    }
   ],
   "source": [
    "from ortools.constraint_solver import routing_enums_pb2\n",
    "from ortools.constraint_solver import pywrapcp\n",
    "import pandas as pd\n",
    "import haversine as hv\n",
    "import time\n",
    "\n",
    "def haversine_dist(x, y):\n",
    "    return hv.haversine(x, y, unit=hv.Unit.KILOMETERS)\n",
    "\n",
    "def create_data_model(size):\n",
    "    \"\"\"Stores the data for the problem.\"\"\"\n",
    "    data = {}\n",
    "    coord = pd.read_csv('tsp_input.csv')[:size]\n",
    "    coord.set_index('Place_Name', inplace=True)\n",
    "    data['distance_matrix'] = [[haversine_dist((coord.loc[i]['Latitude'],coord.loc[i]['Longitude']), (coord.loc[j]['Latitude'],coord.loc[j]['Longitude'])) for j in coord.index] for i in coord.index]\n",
    "    data['num_vehicles'] = 1\n",
    "    data['depot'] = 0\n",
    "    return data\n",
    "\n",
    "\n",
    "def print_solution(result,size,sol_time, manager, routing, solution):\n",
    "    \"\"\"Prints solution on console.\"\"\"\n",
    "    print('Objective: {} miles'.format(solution.ObjectiveValue()))\n",
    "    index = routing.Start(0)\n",
    "    plan_output = 'Route for vehicle 0:\\n'\n",
    "    route_distance = 0\n",
    "    while not routing.IsEnd(index):\n",
    "        plan_output += ' {} ->'.format(manager.IndexToNode(index))\n",
    "        previous_index = index\n",
    "        index = solution.Value(routing.NextVar(index))\n",
    "        route_distance += routing.GetArcCostForVehicle(previous_index, index, 0)\n",
    "    plan_output += ' {}\\n'.format(manager.IndexToNode(index))\n",
    "    print(plan_output)\n",
    "    plan_output += 'Route distance: {}miles\\n'.format(route_distance)\n",
    "    result.loc[len(result['No. of cities'])] = [size ,route_distance,sol_time]\n",
    "\n",
    "\n",
    "\n",
    "def main():\n",
    "    result = pd.DataFrame(columns = ('No. of cities','Route Distance','Solution Time'))\n",
    "    sizes = [10,20,30,40,50,70,100]\n",
    "    for size in sizes:\n",
    "        \"\"\"Entry point of the program.\"\"\"\n",
    "        # Instantiate the data problem.\n",
    "        data = create_data_model(size)\n",
    "\n",
    "        # Create the routing index manager.\n",
    "        manager = pywrapcp.RoutingIndexManager(len(data['distance_matrix']),\n",
    "                                               data['num_vehicles'], data['depot'])\n",
    "\n",
    "        # Create Routing Model.\n",
    "        routing = pywrapcp.RoutingModel(manager)\n",
    "\n",
    "\n",
    "        def distance_callback(from_index, to_index):\n",
    "            \"\"\"Returns the distance between the two nodes.\"\"\"\n",
    "            # Convert from routing variable Index to distance matrix NodeIndex.\n",
    "            from_node = manager.IndexToNode(from_index)\n",
    "            to_node = manager.IndexToNode(to_index)\n",
    "            return data['distance_matrix'][from_node][to_node]\n",
    "\n",
    "        transit_callback_index = routing.RegisterTransitCallback(distance_callback)\n",
    "\n",
    "        # Define cost of each arc.\n",
    "        routing.SetArcCostEvaluatorOfAllVehicles(transit_callback_index)\n",
    "\n",
    "        solver_start_time = time.time()\n",
    "\n",
    "        # Setting first solution heuristic.\n",
    "        search_parameters = pywrapcp.DefaultRoutingSearchParameters()\n",
    "        search_parameters.first_solution_strategy = (\n",
    "            routing_enums_pb2.FirstSolutionStrategy.PATH_CHEAPEST_ARC)\n",
    "\n",
    "        # Solve the problem.\n",
    "        solution = routing.SolveWithParameters(search_parameters)\n",
    "\n",
    "        solver_end_time = time.time()\n",
    "\n",
    "        sol_time = solver_end_time - solver_start_time\n",
    "\n",
    "        # Print solution on console.\n",
    "        if solution:\n",
    "            print_solution(result,size,sol_time,manager, routing, solution)\n",
    "\n",
    "    result.to_csv('ortools_TSP_results.csv')\n",
    "\n",
    "if __name__ == '__main__':\n",
    "    main()\n",
    "\n"
   ]
  },
  {
   "cell_type": "code",
   "execution_count": null,
   "id": "38a08959",
   "metadata": {
    "id": "38a08959"
   },
   "outputs": [],
   "source": []
  }
 ],
 "metadata": {
  "colab": {
   "provenance": []
  },
  "kernelspec": {
   "display_name": "Python 3 (ipykernel)",
   "language": "python",
   "name": "python3"
  },
  "language_info": {
   "codemirror_mode": {
    "name": "ipython",
    "version": 3
   },
   "file_extension": ".py",
   "mimetype": "text/x-python",
   "name": "python",
   "nbconvert_exporter": "python",
   "pygments_lexer": "ipython3",
   "version": "3.8.17"
  }
 },
 "nbformat": 4,
 "nbformat_minor": 5
}
